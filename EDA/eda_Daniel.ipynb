{
  "cells": [
    {
      "cell_type": "markdown",
      "metadata": {
        "id": "view-in-github",
        "colab_type": "text"
      },
      "source": [
        "<a href=\"https://colab.research.google.com/github/lbsantosg/DS4A/blob/main/EDA/eda_Daniel.ipynb\" target=\"_parent\"><img src=\"https://colab.research.google.com/assets/colab-badge.svg\" alt=\"Open In Colab\"/></a>"
      ]
    },
    {
      "cell_type": "code",
      "execution_count": null,
      "metadata": {
        "id": "eYVaiY4PViLe"
      },
      "outputs": [],
      "source": [
        "#Importar maricaditas - holis - holiwis - OwO - RawR I'm a stegosaurus sin palabras\n",
        "#This is a test comment 1\n",
        "import pandas as pd\n",
        "import seaborn as sns\n",
        "import matplotlib as mp"
      ]
    },
    {
      "cell_type": "code",
      "execution_count": null,
      "metadata": {
        "id": "WeU6RwImViLq"
      },
      "outputs": [],
      "source": [
        "#cargar la db\n",
        "df_2020_2 = pd.read_csv(\"C:\\DS4A project\\saber_data\\Saber_11__2020-2.csv\")\n",
        " #( ͡~ ͜ʖ ͡°)"
      ]
    },
    {
      "cell_type": "code",
      "execution_count": null,
      "metadata": {
        "id": "tQENqmKkViLs"
      },
      "outputs": [],
      "source": [
        "pd.options.display.max_columns = 10"
      ]
    },
    {
      "cell_type": "code",
      "execution_count": null,
      "metadata": {
        "id": "fnmbMectViLt"
      },
      "outputs": [],
      "source": [
        "df_2020_2.head()"
      ]
    },
    {
      "cell_type": "code",
      "execution_count": null,
      "metadata": {
        "id": "cBivECXYViLu"
      },
      "outputs": [],
      "source": [
        "#Comienza la anarquia\n",
        "##drop por R #df_2020_2[\"ESTU_TIPODOCUMENTO\"].value_counts(dropna=False) #no hay NaN\n",
        "#solo colombianos? no deberiamos#df_2020_2[\"ESTU_NACIONALIDAD\"].value_counts(dropna=False) #no hay NaN\n",
        "#df_2020_2[\"ESTU_GENERO\"].value_counts(dropna=False) #hay 8 NaN\n",
        "##drop por R #df_2020_2[\"PERIODO\"].describe() # da 0 std, ergo solo hay 1 periodo, descartable\n",
        "#df[\"ESTU_FECHANACIMIENTO\"][((df_2020_2[\"ESTU_FECHANACIMIENTO\"].str[6:10]).astype(int)<1970)]#hay ~13 errores no solucionables, 29 sospechosos, al rededor de 735 adultos mayores, .isnull().sum() = 0\n",
        "#df_2020_2[\"ESTU_CONSECUTIVO\"].describe() #todos unique, podemos usarlo como ID, 0 null\n",
        "##drop por R #df_2020_2[\"ESTU_ESTUDIANTE\"].describe() #todos aparecen como estudiantes, descartable\n",
        "#df_2020_2[\"ESTU_PAIS_RESIDE\"].drop_duplicates() #47 unicos, sin null\n",
        "#(df_2020_2[\"ESTU_TIENEETNIA\"]==\"Si\").value_counts() #solo 32k True, gran cantidad de NaN, se puede tomar NaN como no etnia, ver si es significativo\n",
        "#df_2020_2[\"ESTU_DEPTO_RESIDE\"].drop_duplicates() # es posible este se pueda inferir con dpto en COLE, hay errores aca, aparentemente 240k, consistentes con ESTU_DEPTO_RESIDE y ESTU_COD_RESIDE_DEPTO\n",
        "#df_2020_2[\"ESTU_MCPIO_RESIDE\"].isnull().sum() #2 null, 1031 unicos, tal vez podamos inferir info del dpto con este\n",
        "#df_2020_2[\"ESTU_COD_RESIDE_MCPIO\"].value_counts().drop_duplicates() #igual 2 null, \"https://www.ccbarranca.org.co/ccbar/images/documentos/codigos_municipios_dane.pdf\"aqui hay un pdf con codigo, municio y dpto, depronto lo conseguimos como db en el dane\n",
        "#df_2020_2[\"FAMI_ESTRATOVIVIENDA\"].value_counts(dropna=False) #15k sin estrato, 16k null, es posible se puedan segmentar usando un \"sub analisis\" con las variables socioeconomicas\n",
        "#df_2020_2[\"FAMI_PERSONASHOGAR\"].value_counts(dropna=False) #15k sin reportar, posible correlacion con anterior? tratamiento igual\n",
        "#df_2020_2[\"FAMI_CUARTOSHOGAR\"].value_counts(dropna=False) #de nuevo 15k sin reportar\n",
        "#df_2020_2[\"FAMI_EDUCACIONPADRE\"].value_counts(dropna=False) #12k sin reportar, 29k no sabe, 7k no aplica\n",
        "#df_2020_2[\"FAMI_TRABAJOLABORPADRE\"].value_counts(dropna=False) #20k null, 45k no sabe, posible cruzar esta y anterior\n",
        "#(df_2020_2[\"FAMI_EDUCACIONPADRE\"].isnull() & df_2020_2[\"FAMI_TRABAJOLABORPADRE\"].isnull()).sum() #12084 nulls, categoria nueva posible padre ausente?, toca meterle los no sabe, creo se puede\n",
        "#df_2020_2[\"FAMI_EDUCACIONMADRE\"].value_counts(dropna=False) # 13k null, 9k no sabe 1k no aplica\n",
        "#df_2020_2[\"FAMI_TRABAJOLABORMADRE\"].value_counts(dropna=False) #17k null, 13k no sabe, igual que el anterior\n",
        "#df_2020_2[\"FAMI_TIENEINTERNET\"].value_counts(dropna=False) #13k null\n",
        "#df_2020_2[\"FAMI_TIENESERVICIOTV\"].value_counts(dropna=False) #15k null\n",
        "#df_2020_2[\"FAMI_TIENECOMPUTADOR\"].value_counts(dropna=False) #20k null\n",
        "#df_2020_2[\"FAMI_TIENELAVADORA\"].value_counts(dropna=False) #16k null\n",
        "#df_2020_2[\"FAMI_TIENEHORNOMICROOGAS\"].value_counts(dropna=False) #17k null\n",
        "#df_2020_2[\"FAMI_TIENEAUTOMOVIL\"].value_counts(dropna=False) #17k null\n",
        "#df_2020_2[\"FAMI_TIENEMOTOCICLETA\"].value_counts(dropna=False) #17k null\n",
        "#df_2020_2[\"FAMI_TIENECONSOLAVIDEOJUEGOS\"].value_counts(dropna=False) #17k null los mismos maybe?\n",
        "#df_2020_2[\"FAMI_NUMLIBROS\"].value_counts(dropna=False) #13k nulls, de resto trabajable\n",
        "#df_2020_2[\"FAMI_COMELECHEDERIVADOS\"].value_counts(dropna=False) #13k nulls\n",
        "#df_2020_2[\"FAMI_COMECARNEPESCADOHUEVO\"].value_counts(dropna=False) #15k nulls\n",
        "#df_2020_2[\"FAMI_COMECEREALFRUTOSLEGUMBRE\"].value_counts(dropna=False) #20k nulls\n",
        "#df_2020_2[\"FAMI_SITUACIONECONOMICA\"].value_counts(dropna=False) #16k nulls, conclusión, es posible crear un indice de ausencia de datos, segun eso, descartar o analizar como cat. propia\n",
        "#Grupo FAMI toca trabajarlo aparte\n",
        "#df_2020_2[\"ESTU_DEDICACIONLECTURADIARIA\"].value_counts(dropna=False) #14k nulls\n",
        "#df_2020_2[\"ESTU_DEDICACIONINTERNET\"].value_counts(dropna=False) #14k nulls\n",
        "#df_2020_2[\"ESTU_HORASSEMANATRABAJA\"].value_counts(dropna=False) #17k nulls\n",
        "#df_2020_2[\"ESTU_TIPOREMUNERACION\"].value_counts(dropna=False) #17k nulls cruzar esta y anterior, si tiene pago, asignarle lineal segun categoria y viceversa\n",
        "#df_2020_2[\"COLE_CODIGO_ICFES\"].value_counts(dropna=False) #parece no hay null, creo que aqui tmb se puede cruzar municipio y dpto\n",
        "#df_2020_2[\"COLE_COD_DANE_ESTABLECIMIENTO\"].value_counts(dropna=False) #no hay null, de aqui si se puede sacar el mun y dpto, si esta sirve, creo se puede dropear la anterior\n",
        "#df_2020_2[\"COLE_NOMBRE_ESTABLECIMIENTO\"]#.drop_duplicates().sum()#.value_counts(dropna=False) #0 null, se puede usar para dar resultados por colegio\n",
        "#df_2020_2[\"COLE_GENERO\"].value_counts(dropna=False) # no nulls\n",
        "#df_2020_2[\"COLE_NATURALEZA\"].value_counts(dropna=False) #no nulls\n",
        "#df_2020_2[\"COLE_CALENDARIO\"].value_counts(dropna=False) #no nulls, la mayoría A, 2k otro y B 400\n",
        "#df_2020_2[\"COLE_BILINGUE\"].value_counts(dropna=False) #83k nulls, buen candidato para segmentar los null\n",
        "#df_2020_2[\"COLE_CARACTER\"].value_counts(dropna=False)  #14k null, igual que el anterior\n",
        "#df_2020_2[\"COLE_COD_DANE_SEDE\"].value_counts(dropna=False) #este y COLE_NOMBRE_SEDE, para presentar por colegio\n",
        "#df_2020_2[\"COLE_SEDE_PRINCIPAL\"].value_counts(dropna=False) #esta bueno como categoria sola\n",
        "#df_2020_2[\"COLE_AREA_UBICACION\"].value_counts(dropna=False) # 0 null\n",
        "#df_2020_2[\"COLE_JORNADA\"].value_counts(dropna=False) #0 null\n",
        "#df_2020_2[\"COLE_COD_MCPIO_UBICACION\"].isnull().sum()#.value_counts(dropna=False) #0 null, se puede usar para rellenar null de estudiantes\n",
        "#df_2020_2[\"COLE_MCPIO_UBICACION\"].value_counts(dropna=False) #igual que anterior\n",
        "#df_2020_2[\"COLE_DEPTO_UBICACION\"].isnull().sum() #igual que anterior, ya se tendrian esos datos\n",
        "#df_2020_2[\"ESTU_PRIVADO_LIBERTAD\"].value_counts(dropna=False) #152 si, 0 null, gran mayoria no\n",
        "##drop por R #los de lugar de presentación ni los revisé, con mun y dpto de colegio es suficiente\n",
        "##drop por R #los percentiles y desempeño los obvié porque se calculan con info de esta tabla\n",
        "#df_2020_2[\"PUNT_LECTURA_CRITICA\"].isnull().sum()#.value_counts(dropna=False) #197 0% 420%\n",
        "#df_2020_2[\"PUNT_MATEMATICAS\"].isnull().sum()#.value_counts(dropna=False) #187 0% 1335 100%\n",
        "#df_2020_2[\"PUNT_C_NATURALES\"].isnull().sum()#.value_counts(dropna=False) #392 0% 373 100%\n",
        "#df_2020_2[\"PUNT_SOCIALES_CIUDADANAS\"]#.value_counts(dropna=False)#190 0% 989 100%\n",
        "#df_2020_2[\"PUNT_INGLES\"].value_counts(dropna=False) #1282 0% 1070 100% 334 null\n",
        "#(df_2020_2[\"PUNT_GLOBAL\"]==0).sum() #0 null, 80 0%\n",
        "#df_2020_2[\"ESTU_INSE_INDIVIDUAL\"].value_counts(dropna=False) #14k nulls, el INSE es indice de nivel socio economico\n",
        "#df_2020_2[\"ESTU_NSE_ESTABLECIMIENTO\"].value_counts(dropna=False) #49 null, este sirve como indicador para el anterior\n",
        "##drop por R #ESTU_ESTADOINVESTIGACION y ESTU_GENERACION-E dependen de resultados de icfes así que no los tomé\n",
        "\n",
        "#en este primer paso, escojo cuales puedo dropear sin afectar la info disponible, sea por redundantes o porque se me da la gana\n"
      ]
    },
    {
      "cell_type": "code",
      "execution_count": null,
      "metadata": {
        "id": "qX9a90fUViL2",
        "outputId": "7427eba2-9332-4284-aa16-d075a25e44dc"
      },
      "outputs": [
        {
          "name": "stderr",
          "output_type": "stream",
          "text": [
            "C:\\Users\\DanielPc\\AppData\\Local\\Temp\\ipykernel_2944\\3208842463.py:6: SettingWithCopyWarning: \n",
            "A value is trying to be set on a copy of a slice from a DataFrame.\n",
            "Try using .loc[row_indexer,col_indexer] = value instead\n",
            "\n",
            "See the caveats in the documentation: https://pandas.pydata.org/pandas-docs/stable/user_guide/indexing.html#returning-a-view-versus-a-copy\n",
            "  df_2020_2_FAMI[\"nNulls\"] = df_2020_2_FAMI.isnull().sum(axis=1)\n"
          ]
        },
        {
          "data": {
            "text/plain": [
              "53328"
            ]
          },
          "execution_count": 98,
          "metadata": {},
          "output_type": "execute_result"
        }
      ],
      "source": [
        "#saco la info de grupo familiar\n",
        "df_2020_2_FAMI = df_2020_2[[\"ESTU_CONSECUTIVO\", \"FAMI_ESTRATOVIVIENDA\", \"FAMI_PERSONASHOGAR\", \"FAMI_CUARTOSHOGAR\", \"FAMI_EDUCACIONPADRE\", \"FAMI_EDUCACIONMADRE\", \"FAMI_TRABAJOLABORPADRE\", \"FAMI_TRABAJOLABORMADRE\", \"FAMI_TIENEINTERNET\", \"FAMI_TIENESERVICIOTV\", \"FAMI_TIENECOMPUTADOR\", \"FAMI_TIENELAVADORA\", \"FAMI_TIENEHORNOMICROOGAS\", \"FAMI_TIENEAUTOMOVIL\", \"FAMI_TIENEMOTOCICLETA\", \"FAMI_TIENECONSOLAVIDEOJUEGOS\", \"FAMI_NUMLIBROS\", \"FAMI_COMELECHEDERIVADOS\", \"FAMI_COMECARNEPESCADOHUEVO\", \"FAMI_COMECEREALFRUTOSLEGUMBRE\", \"FAMI_SITUACIONECONOMICA\"]]\n",
        "#crear una columna que sume todos los null de cada row\n",
        "\n",
        "#son 20 posibles categorias, 21 rows con el index\n",
        "df_2020_2_FAMI[\"nNulls\"] = df_2020_2_FAMI.isnull().sum(axis=1)\n",
        "df_2020_2_FAMI = df_2020_2_FAMI.reindex(columns=(\"nNulls\", \"ESTU_CONSECUTIVO\", \"FAMI_ESTRATOVIVIENDA\", \"FAMI_PERSONASHOGAR\", \"FAMI_CUARTOSHOGAR\", \"FAMI_EDUCACIONPADRE\", \"FAMI_EDUCACIONMADRE\", \"FAMI_TRABAJOLABORPADRE\", \"FAMI_TRABAJOLABORMADRE\", \"FAMI_TIENEINTERNET\", \"FAMI_TIENESERVICIOTV\", \"FAMI_TIENECOMPUTADOR\", \"FAMI_TIENELAVADORA\", \"FAMI_TIENEHORNOMICROOGAS\", \"FAMI_TIENEAUTOMOVIL\", \"FAMI_TIENEMOTOCICLETA\", \"FAMI_TIENECONSOLAVIDEOJUEGOS\", \"FAMI_NUMLIBROS\", \"FAMI_COMELECHEDERIVADOS\", \"FAMI_COMECARNEPESCADOHUEVO\", \"FAMI_COMECEREALFRUTOSLEGUMBRE\", \"FAMI_SITUACIONECONOMICA\"))\n",
        "df_2020_2_FAMI[\"nNulls\"][df_2020_2_FAMI[\"nNulls\"]>0].value_counts().sum()\n",
        "#este muestra como empieza la df, en total hay 11588 con 20 null, y 53k con al menos 1 null"
      ]
    },
    {
      "cell_type": "code",
      "execution_count": null,
      "metadata": {
        "id": "n_GpC6fUViL5",
        "outputId": "8ad86ce1-d321-41be-e834-018edd45bebe"
      },
      "outputs": [
        {
          "data": {
            "text/html": [
              "<div>\n",
              "<style scoped>\n",
              "    .dataframe tbody tr th:only-of-type {\n",
              "        vertical-align: middle;\n",
              "    }\n",
              "\n",
              "    .dataframe tbody tr th {\n",
              "        vertical-align: top;\n",
              "    }\n",
              "\n",
              "    .dataframe thead th {\n",
              "        text-align: right;\n",
              "    }\n",
              "</style>\n",
              "<table border=\"1\" class=\"dataframe\">\n",
              "  <thead>\n",
              "    <tr style=\"text-align: right;\">\n",
              "      <th></th>\n",
              "      <th>nNulls</th>\n",
              "      <th>ESTU_CONSECUTIVO</th>\n",
              "      <th>FAMI_ESTRATOVIVIENDA</th>\n",
              "      <th>FAMI_PERSONASHOGAR</th>\n",
              "      <th>FAMI_CUARTOSHOGAR</th>\n",
              "      <th>...</th>\n",
              "      <th>FAMI_NUMLIBROS</th>\n",
              "      <th>FAMI_COMELECHEDERIVADOS</th>\n",
              "      <th>FAMI_COMECARNEPESCADOHUEVO</th>\n",
              "      <th>FAMI_COMECEREALFRUTOSLEGUMBRE</th>\n",
              "      <th>FAMI_SITUACIONECONOMICA</th>\n",
              "    </tr>\n",
              "  </thead>\n",
              "  <tbody>\n",
              "    <tr>\n",
              "      <th>0</th>\n",
              "      <td>0</td>\n",
              "      <td>SB11202040211436</td>\n",
              "      <td>Estrato 2</td>\n",
              "      <td>5 a 6</td>\n",
              "      <td>Dos</td>\n",
              "      <td>...</td>\n",
              "      <td>26 A 100 LIBROS</td>\n",
              "      <td>3 a 5 veces por semana</td>\n",
              "      <td>1 o 2 veces por semana</td>\n",
              "      <td>3 a 5 veces por semana</td>\n",
              "      <td>Peor</td>\n",
              "    </tr>\n",
              "    <tr>\n",
              "      <th>1</th>\n",
              "      <td>0</td>\n",
              "      <td>SB11202040433216</td>\n",
              "      <td>Estrato 3</td>\n",
              "      <td>3 a 4</td>\n",
              "      <td>Uno</td>\n",
              "      <td>...</td>\n",
              "      <td>0 A 10 LIBROS</td>\n",
              "      <td>3 a 5 veces por semana</td>\n",
              "      <td>Todos o casi todos los días</td>\n",
              "      <td>3 a 5 veces por semana</td>\n",
              "      <td>Mejor</td>\n",
              "    </tr>\n",
              "  </tbody>\n",
              "</table>\n",
              "<p>2 rows × 22 columns</p>\n",
              "</div>"
            ],
            "text/plain": [
              "   nNulls  ESTU_CONSECUTIVO FAMI_ESTRATOVIVIENDA FAMI_PERSONASHOGAR  \\\n",
              "0       0  SB11202040211436            Estrato 2              5 a 6   \n",
              "1       0  SB11202040433216            Estrato 3              3 a 4   \n",
              "\n",
              "  FAMI_CUARTOSHOGAR  ...   FAMI_NUMLIBROS FAMI_COMELECHEDERIVADOS  \\\n",
              "0               Dos  ...  26 A 100 LIBROS  3 a 5 veces por semana   \n",
              "1               Uno  ...    0 A 10 LIBROS  3 a 5 veces por semana   \n",
              "\n",
              "    FAMI_COMECARNEPESCADOHUEVO FAMI_COMECEREALFRUTOSLEGUMBRE  \\\n",
              "0       1 o 2 veces por semana        3 a 5 veces por semana   \n",
              "1  Todos o casi todos los días        3 a 5 veces por semana   \n",
              "\n",
              "  FAMI_SITUACIONECONOMICA  \n",
              "0                    Peor  \n",
              "1                   Mejor  \n",
              "\n",
              "[2 rows x 22 columns]"
            ]
          },
          "execution_count": 99,
          "metadata": {},
          "output_type": "execute_result"
        }
      ],
      "source": [
        "#nukear todos los que tienen vacio el grupo familia, lo necesitamos para inferir sobre población, si no lo tienen, no sirven\n",
        "df_2020_2_FAMI = df_2020_2_FAMI[df_2020_2_FAMI[\"nNulls\"]!=20] #11588 dropeados\n",
        "df_2020_2_FAMI.head(2)"
      ]
    },
    {
      "cell_type": "code",
      "execution_count": null,
      "metadata": {
        "id": "MpUh5iE0ViL7",
        "outputId": "b76f678f-b5f7-4540-c8e3-895d9b88a798"
      },
      "outputs": [
        {
          "name": "stderr",
          "output_type": "stream",
          "text": [
            "C:\\Users\\DanielPc\\AppData\\Local\\Temp\\ipykernel_2944\\2528513608.py:5: SettingWithCopyWarning: \n",
            "A value is trying to be set on a copy of a slice from a DataFrame\n",
            "\n",
            "See the caveats in the documentation: https://pandas.pydata.org/pandas-docs/stable/user_guide/indexing.html#returning-a-view-versus-a-copy\n",
            "  df_2020_2_FAMI_c[\"FAMI_ESTRATOVIVIENDA\"][df_2020_2_FAMI_c[\"FAMI_ESTRATOVIVIENDA\"].isnull()]=\"Sin Estrato\"\n"
          ]
        }
      ],
      "source": [
        "#ahora a limpiar los null\n",
        "df_2020_2_FAMI_c = df_2020_2_FAMI\n",
        "#supuesto 1: todo debería estar estratificado en Colombia, ergo NaN es otra forma de decir Sin Estrato\n",
        "#df_2020_2_FAMI_c[\"FAMI_ESTRATOVIVIENDA\"].value_counts(dropna=False)#NaN 5364, Sin Estrato 15631, Antes del nuke => NaN 16952, Sin Estrato 15631\n",
        "df_2020_2_FAMI_c[\"FAMI_ESTRATOVIVIENDA\"][df_2020_2_FAMI_c[\"FAMI_ESTRATOVIVIENDA\"].isnull()]=\"Sin Estrato\"\n",
        "df_2020_2_FAMI_c[\"FAMI_ESTRATOVIVIENDA\"].value_counts(dropna=False) #0 NaN, 20995 Sin Estrato, Antes del nuke => 0 NaN, 32583 Sin Estrato\n",
        "df_2020_2_FAMI[\"FAMI_ESTRATOVIVIENDA\"] = df_2020_2_FAMI_c[\"FAMI_ESTRATOVIVIENDA\"]\n",
        "\n"
      ]
    },
    {
      "cell_type": "code",
      "execution_count": null,
      "metadata": {
        "id": "2ZyV0Qi7ViL8",
        "outputId": "b5146e2a-8b09-45f5-86be-26aef9e093e5"
      },
      "outputs": [
        {
          "data": {
            "text/html": [
              "<div>\n",
              "<style scoped>\n",
              "    .dataframe tbody tr th:only-of-type {\n",
              "        vertical-align: middle;\n",
              "    }\n",
              "\n",
              "    .dataframe tbody tr th {\n",
              "        vertical-align: top;\n",
              "    }\n",
              "\n",
              "    .dataframe thead th {\n",
              "        text-align: right;\n",
              "    }\n",
              "</style>\n",
              "<table border=\"1\" class=\"dataframe\">\n",
              "  <thead>\n",
              "    <tr style=\"text-align: right;\">\n",
              "      <th></th>\n",
              "      <th>nNulls</th>\n",
              "      <th>ESTU_CONSECUTIVO</th>\n",
              "      <th>FAMI_ESTRATOVIVIENDA</th>\n",
              "      <th>FAMI_PERSONASHOGAR</th>\n",
              "      <th>FAMI_CUARTOSHOGAR</th>\n",
              "      <th>...</th>\n",
              "      <th>FAMI_NUMLIBROS</th>\n",
              "      <th>FAMI_COMELECHEDERIVADOS</th>\n",
              "      <th>FAMI_COMECARNEPESCADOHUEVO</th>\n",
              "      <th>FAMI_COMECEREALFRUTOSLEGUMBRE</th>\n",
              "      <th>FAMI_SITUACIONECONOMICA</th>\n",
              "    </tr>\n",
              "  </thead>\n",
              "  <tbody>\n",
              "    <tr>\n",
              "      <th>0</th>\n",
              "      <td>0</td>\n",
              "      <td>SB11202040211436</td>\n",
              "      <td>Estrato 2</td>\n",
              "      <td>5 a 6</td>\n",
              "      <td>Dos</td>\n",
              "      <td>...</td>\n",
              "      <td>26 A 100 LIBROS</td>\n",
              "      <td>3 a 5 veces por semana</td>\n",
              "      <td>1 o 2 veces por semana</td>\n",
              "      <td>3 a 5 veces por semana</td>\n",
              "      <td>Peor</td>\n",
              "    </tr>\n",
              "    <tr>\n",
              "      <th>1</th>\n",
              "      <td>0</td>\n",
              "      <td>SB11202040433216</td>\n",
              "      <td>Estrato 3</td>\n",
              "      <td>3 a 4</td>\n",
              "      <td>Uno</td>\n",
              "      <td>...</td>\n",
              "      <td>0 A 10 LIBROS</td>\n",
              "      <td>3 a 5 veces por semana</td>\n",
              "      <td>Todos o casi todos los días</td>\n",
              "      <td>3 a 5 veces por semana</td>\n",
              "      <td>Mejor</td>\n",
              "    </tr>\n",
              "  </tbody>\n",
              "</table>\n",
              "<p>2 rows × 22 columns</p>\n",
              "</div>"
            ],
            "text/plain": [
              "   nNulls  ESTU_CONSECUTIVO FAMI_ESTRATOVIVIENDA FAMI_PERSONASHOGAR  \\\n",
              "0       0  SB11202040211436            Estrato 2              5 a 6   \n",
              "1       0  SB11202040433216            Estrato 3              3 a 4   \n",
              "\n",
              "  FAMI_CUARTOSHOGAR  ...   FAMI_NUMLIBROS FAMI_COMELECHEDERIVADOS  \\\n",
              "0               Dos  ...  26 A 100 LIBROS  3 a 5 veces por semana   \n",
              "1               Uno  ...    0 A 10 LIBROS  3 a 5 veces por semana   \n",
              "\n",
              "    FAMI_COMECARNEPESCADOHUEVO FAMI_COMECEREALFRUTOSLEGUMBRE  \\\n",
              "0       1 o 2 veces por semana        3 a 5 veces por semana   \n",
              "1  Todos o casi todos los días        3 a 5 veces por semana   \n",
              "\n",
              "  FAMI_SITUACIONECONOMICA  \n",
              "0                    Peor  \n",
              "1                   Mejor  \n",
              "\n",
              "[2 rows x 22 columns]"
            ]
          },
          "execution_count": 86,
          "metadata": {},
          "output_type": "execute_result"
        }
      ],
      "source": [
        "df_2020_2_FAMI_c.head(2)"
      ]
    },
    {
      "cell_type": "code",
      "execution_count": null,
      "metadata": {
        "id": "B8GPSW98ViL9",
        "outputId": "a66ab4a3-ec44-43cf-c0c8-a34484cb80d1"
      },
      "outputs": [
        {
          "data": {
            "text/plain": [
              "False    490515\n",
              "True       2769\n",
              "dtype: int64"
            ]
          },
          "execution_count": 140,
          "metadata": {},
          "output_type": "execute_result"
        }
      ],
      "source": [
        "#print(df_2020_2_FAMI_c[\"FAMI_PERSONASHOGAR\"].value_counts(dropna=False)) #3585 NaN\n",
        "#print(df_2020_2_FAMI_c[\"FAMI_CUARTOSHOGAR\"].value_counts(dropna=False)) #4251 NaN\n",
        "#((df_2020_2_FAMI_c[\"FAMI_PERSONASHOGAR\"].isnull()) & (df_2020_2_FAMI_c[\"FAMI_CUARTOSHOGAR\"].isnull())).sum() #2769 NaN\n",
        "#como trato de inferir faltantes usando el otro par, tengo que dropear los que no tienen ninguno\n",
        "\n",
        "\n",
        "#https://stackoverflow.com/questions/21415661/logical-operators-for-boolean-indexing-in-pandas\n",
        "\n",
        "#hora de chi^2\n",
        "#crear una lista con los que no tienen el par de null\n",
        "((df_2020_2_FAMI_c[\"FAMI_PERSONASHOGAR\"].isnull()) & (df_2020_2_FAMI_c[\"FAMI_CUARTOSHOGAR\"].isnull())).value_counts(dropna=False)#son True los que quiero dejar\n",
        "#df_2020_2_FAMI = df_2020_2_FAMI[df_2020_2_FAMI[\"nNulls\"]!=20] #11588 dropeados\n",
        "#df_2020_2_FAMI_c[\"a_dejar\"] = ((df_2020_2_FAMI_c[\"FAMI_PERSONASHOGAR\"].notnull()) & (df_2020_2_FAMI_c[\"FAMI_CUARTOSHOGAR\"].notnull()))\n",
        "#df_2020_2_FAMI_c = df_2020_2_FAMI_c[df_2020_2_FAMI_c[\"a_dejar\"]==True]"
      ]
    },
    {
      "cell_type": "code",
      "execution_count": null,
      "metadata": {
        "id": "eVXlPoYEViL-",
        "outputId": "09270a67-3f6b-4f37-9075-ab7a76d77c6a"
      },
      "outputs": [
        {
          "data": {
            "text/plain": [
              "True     488217\n",
              "False      5067\n",
              "Name: a_dejar, dtype: int64"
            ]
          },
          "execution_count": 135,
          "metadata": {},
          "output_type": "execute_result"
        }
      ],
      "source": [
        "#df_2020_2_FAMI_c[\"FAMI_CUARTOSHOGAR\"].value_counts(dropna=False)\n",
        "df_2020_2_FAMI_c[\"a_dejar\"].value_counts(dropna=False)"
      ]
    }
  ],
  "metadata": {
    "colab": {
      "collapsed_sections": [],
      "name": "eda-Daniel.ipynb",
      "provenance": [],
      "include_colab_link": true
    },
    "interpreter": {
      "hash": "c8971063be33fefc1b497cb33d3d94d9f864f2594d5c5e612a3995a703937528"
    },
    "kernelspec": {
      "display_name": "Python 3.10.3 64-bit",
      "language": "python",
      "name": "python3"
    },
    "language_info": {
      "codemirror_mode": {
        "name": "ipython",
        "version": 3
      },
      "file_extension": ".py",
      "mimetype": "text/x-python",
      "name": "python",
      "nbconvert_exporter": "python",
      "pygments_lexer": "ipython3",
      "version": "3.10.3"
    },
    "orig_nbformat": 4
  },
  "nbformat": 4,
  "nbformat_minor": 0
}